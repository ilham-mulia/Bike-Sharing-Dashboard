{
  "cells": [
    {
      "cell_type": "markdown",
      "metadata": {
        "id": "H9wADwK78DCz"
      },
      "source": [
        "# Proyek Analisis Data: Bike Sharing Dataset\n",
        "- **Nama:** ILHAM MULIA\n",
        "- **Email:** Ilhammulia2000@gmail.com\n",
        "- **ID Dicoding:** l000ywl068"
      ]
    },
    {
      "cell_type": "markdown",
      "metadata": {
        "id": "eE0raob58DC0"
      },
      "source": [
        "## Menentukan Pertanyaan Bisnis"
      ]
    },
    {
      "cell_type": "markdown",
      "metadata": {
        "id": "GmQeQ5YF8DC0"
      },
      "source": [
        "1. Bagaimana pola penggunaan sepeda berdasarkan musim, hari kerja, dan cuaca?\n",
        "2. Seberapa besar pengaruh cuaca terhadap jumlah penyewaan sepeda?\n",
        "3. Kapan waktu puncak penyewaan sepeda berdasarkan hari dalam seminggu?"
      ]
    },
    {
      "cell_type": "markdown",
      "metadata": {
        "id": "H-z4QGlO8DC1"
      },
      "source": [
        "## Import Semua Packages/Library yang Digunakan"
      ]
    },
    {
      "cell_type": "code",
      "execution_count": null,
      "metadata": {
        "id": "FVYwaObI8DC1"
      },
      "outputs": [],
      "source": [
        "import pandas as pd\n",
        "import matplotlib.pyplot as plt\n",
        "import seaborn as sns\n",
        "import streamlit as st\n",
        "sns.set(style='dark')"
      ]
    },
    {
      "cell_type": "markdown",
      "metadata": {
        "id": "h_Sh51Xy8DC1"
      },
      "source": [
        "#Data Wrangling\n",
        "\n"
      ]
    },
    {
      "cell_type": "markdown",
      "metadata": {
        "id": "sXU2GBYu8DC1"
      },
      "source": [
        "### Gathering Data"
      ]
    },
    {
      "cell_type": "code",
      "execution_count": null,
      "metadata": {
        "id": "zjCBk1BI8DC1"
      },
      "outputs": [],
      "source": []
    },
    {
      "cell_type": "markdown",
      "source": [
        "###**Gathering Data**\n",
        "\n",
        "Dataset yang digunakan berasal dari Bike Sharing Dataset, yang terdiri dari:\n",
        "\n",
        "* day.csv (data agregasi harian)\n",
        "* hour.csv (data agregasi per jam)\n",
        "\n",
        "Dataset telah digabung menjadi satu file **all_data.csv** agar lebih mudah dianalisis.\n",
        "\n",
        "###**Insight:**\n",
        "\n",
        "- Data mencakup periode tahun 2011-2012\n",
        "- Memiliki informasi cuaca, musim, jumlah pengguna, dan jumlah penyewaan sepeda"
      ],
      "metadata": {
        "id": "MMi6xGaDkbCi"
      }
    },
    {
      "cell_type": "markdown",
      "metadata": {
        "id": "FHSiqaZp8DC1"
      },
      "source": [
        "### Assessing Data"
      ]
    },
    {
      "cell_type": "code",
      "source": [],
      "metadata": {
        "id": "ax-3tEjc9Cj1"
      },
      "execution_count": null,
      "outputs": []
    },
    {
      "cell_type": "markdown",
      "source": [
        "Dataset diperiksa untuk menemukan masalah kualitas data seperti missing values, duplikasi, atau inkonsistensi.\n",
        "\n",
        "Insight:\n",
        "- Tidak ditemukan missing values yang signifikan\n",
        "- Format tanggal (dteday) perlu dikonversi ke datetime untuk analisis waktu"
      ],
      "metadata": {
        "id": "7dtxhAPrkhPL"
      }
    },
    {
      "cell_type": "markdown",
      "metadata": {
        "id": "EhN5R4hr8DC1"
      },
      "source": [
        "### Cleaning Data"
      ]
    },
    {
      "cell_type": "code",
      "source": [],
      "metadata": {
        "id": "jVnYpprE9Evz"
      },
      "execution_count": null,
      "outputs": []
    },
    {
      "cell_type": "markdown",
      "source": [
        "- Mengubah format dteday menjadi datetime\n",
        "- Menyesuaikan tipe data untuk memudahkan analisis\n",
        "\n",
        "**Insight:**\n",
        "- Data sudah siap untuk eksplorasi lebih lanjut"
      ],
      "metadata": {
        "id": "Q_5ejIqckiSP"
      }
    },
    {
      "cell_type": "markdown",
      "metadata": {
        "id": "gp-Y6wU38DC1"
      },
      "source": [
        "## Exploratory Data Analysis (EDA)"
      ]
    },
    {
      "cell_type": "markdown",
      "metadata": {
        "id": "MW7WF2kr8DC1"
      },
      "source": [
        "### Explore ..."
      ]
    },
    {
      "cell_type": "markdown",
      "source": [
        "**Pola Penggunaan Sepeda Berdasarkan Musim**\n",
        "\n",
        "```\n",
        "rentals_per_season = all_df.groupby('season')['cnt'].sum().reset_index()\n",
        "sns.barplot(x='season', y='cnt', data=rentals_per_season)\n",
        "plt.title('Jumlah Penyewaan Sepeda Berdasarkan Musim')\n",
        "plt.show()\n",
        "```\n",
        "\n",
        "**Insight:**\n",
        "- Penyewaan sepeda tertinggi terjadi di musim gugur, sedangkan musim semi memiliki penyewaan terendah.\n",
        "\n",
        "**Pengaruh Cuaca terhadap Jumlah Penyewaan Sepeda**\n",
        "```\n",
        "rentals_per_weather = all_df.groupby('weathersit')['cnt'].sum().reset_index()\n",
        "sns.barplot(x='weathersit', y='cnt', data=rentals_per_weather)\n",
        "plt.title('Pengaruh Cuaca terhadap Penyewaan Sepeda')\n",
        "plt.show()\n",
        "```\n",
        "\n",
        "**Insight:**\n",
        "- Cuaca cerah memiliki jumlah penyewaan tertinggi, sedangkan kondisi cuaca ekstrem mengurangi penggunaan sepeda secara signifikan.\n",
        "\n",
        "**Waktu Puncak Penyewaan Sepeda Berdasarkan Hari dalam Seminggu**\n",
        "```\n",
        "rentals_per_weekday = all_df.groupby('weekday')['cnt'].sum().reset_index()\n",
        "sns.barplot(x='weekday', y='cnt', data=rentals_per_weekday)\n",
        "plt.title('Waktu Puncak Penyewaan Sepeda dalam Seminggu')\n",
        "plt.show()\n",
        "```\n",
        "\n",
        "**Insight:**\n",
        "- Penyewaan tertinggi terjadi pada hari kerja dibandingkan akhir pekan, menunjukkan bahwa banyak pengguna menggunakan sepeda untuk keperluan pekerjaan."
      ],
      "metadata": {
        "id": "th_Lzl2Fkj9O"
      }
    },
    {
      "cell_type": "markdown",
      "metadata": {
        "id": "zsyZjqak8DC2"
      },
      "source": [
        "## Visualization & Explanatory Analysis"
      ]
    },
    {
      "cell_type": "markdown",
      "metadata": {
        "id": "HZxOiQ6n8DC2"
      },
      "source": [
        "**Pertanyaan 1: Bagaimana pola penggunaan sepeda berdasarkan musim, hari kerja, dan cuaca?**\n",
        "- Grafik menunjukkan bahwa musim dan cuaca berpengaruh besar terhadap jumlah penyewaan.\n",
        "- Hari kerja memiliki lebih banyak penyewaan dibandingkan akhir pekan.\n",
        "\n",
        "**Pertanyaan 2: Seberapa besar pengaruh cuaca terhadap jumlah penyewaan sepeda?**\n",
        "- Cuaca cerah mendorong lebih banyak penyewaan, sementara cuaca buruk mengurangi penggunaan secara drastis.\n",
        "\n",
        "**Pertanyaan 3: Kapan waktu puncak penyewaan sepeda berdasarkan hari dalam seminggu?**\n",
        "- Penyewaan puncak terjadi pada hari kerja, menunjukkan bahwa sepeda lebih sering digunakan untuk aktivitas rutin seperti bekerja atau sekolah."
      ]
    },
    {
      "cell_type": "markdown",
      "source": [
        "## Analisis Lanjutan (Opsional)"
      ],
      "metadata": {
        "id": "9y4VUsmcYNZ5"
      }
    },
    {
      "cell_type": "markdown",
      "source": [
        "Jika ingin mendalami lebih jauh, bisa dilakukan analisis tambahan seperti:\n",
        "\n",
        "- Menggunakan regresi untuk memprediksi jumlah penyewaan berdasarkan cuaca dan hari.\n",
        "- Melihat pengaruh suhu dan kelembaban terhadap penyewaan sepeda."
      ],
      "metadata": {
        "id": "Az0eiRkpsbWs"
      }
    },
    {
      "cell_type": "markdown",
      "metadata": {
        "id": "_WeHlCeX8DC2"
      },
      "source": [
        "## Conclusion"
      ]
    },
    {
      "cell_type": "markdown",
      "metadata": {
        "id": "ZTcyR48Y8DC2"
      },
      "source": [
        "- Pola penggunaan sepeda: Lebih banyak digunakan saat cuaca cerah dan pada hari kerja.\n",
        "- Pengaruh cuaca: Cuaca buruk sangat mengurangi jumlah penyewaan sepeda.\n",
        "- Waktu puncak penggunaan: Hari kerja memiliki penyewaan lebih tinggi dibandingkan akhir pekan."
      ]
    }
  ],
  "metadata": {
    "kernelspec": {
      "display_name": "Python 3",
      "language": "python",
      "name": "python3"
    },
    "language_info": {
      "name": "python",
      "version": "3.8.0 (tags/v3.8.0:fa919fd, Oct 14 2019, 19:21:23) [MSC v.1916 32 bit (Intel)]"
    },
    "orig_nbformat": 4,
    "vscode": {
      "interpreter": {
        "hash": "972b3bf27e332e87b5379f2791f6ef9dfc79c71018c370b0d7423235e20fe4d7"
      }
    },
    "colab": {
      "provenance": []
    }
  },
  "nbformat": 4,
  "nbformat_minor": 0
}